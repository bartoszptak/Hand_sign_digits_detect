{
 "cells": [
  {
   "cell_type": "code",
   "execution_count": 1,
   "metadata": {
    "scrolled": true
   },
   "outputs": [
    {
     "name": "stderr",
     "output_type": "stream",
     "text": [
      "C:\\Install\\Anaconda3\\lib\\site-packages\\h5py\\__init__.py:36: FutureWarning: Conversion of the second argument of issubdtype from `float` to `np.floating` is deprecated. In future, it will be treated as `np.float64 == np.dtype(float).type`.\n",
      "  from ._conv import register_converters as _register_converters\n",
      "Using TensorFlow backend.\n"
     ]
    }
   ],
   "source": [
    "from keras.models import Sequential\n",
    "from keras.layers import Conv2D\n",
    "from keras.layers import MaxPooling2D\n",
    "from keras.layers import Flatten, Activation\n",
    "from keras.layers import Dense"
   ]
  },
  {
   "cell_type": "code",
   "execution_count": 2,
   "metadata": {},
   "outputs": [],
   "source": [
    "classifier = Sequential()"
   ]
  },
  {
   "cell_type": "code",
   "execution_count": 3,
   "metadata": {},
   "outputs": [],
   "source": [
    "classifier.add(Conv2D(32, (3, 3), input_shape=(100, 100, 3)))\n",
    "classifier.add(Activation('relu'))\n",
    "classifier.add(MaxPooling2D(pool_size=(2, 2)))\n",
    "\n",
    "classifier.add(Conv2D(32, (3, 3)))\n",
    "classifier.add(Activation('relu'))\n",
    "classifier.add(MaxPooling2D(pool_size=(2, 2)))\n",
    "\n",
    "classifier.add(Conv2D(64, (3, 3)))\n",
    "classifier.add(Activation('relu'))\n",
    "classifier.add(MaxPooling2D(pool_size=(2, 2)))\n",
    "\n",
    "classifier.add(Flatten())  # this converts our 3D feature maps to 1D feature vectors\n",
    "classifier.add(Dense(64))\n",
    "classifier.add(Activation('relu'))\n",
    "classifier.add(Dense(5))\n",
    "classifier.add(Activation('sigmoid'))"
   ]
  },
  {
   "cell_type": "code",
   "execution_count": 4,
   "metadata": {},
   "outputs": [],
   "source": [
    "classifier.compile(optimizer = 'rmsprop', loss = 'categorical_crossentropy', metrics = ['accuracy'])"
   ]
  },
  {
   "cell_type": "code",
   "execution_count": 5,
   "metadata": {},
   "outputs": [
    {
     "name": "stdout",
     "output_type": "stream",
     "text": [
      "Found 1748 images belonging to 5 classes.\n",
      "Found 495 images belonging to 5 classes.\n"
     ]
    }
   ],
   "source": [
    "from keras.preprocessing.image import ImageDataGenerator\n",
    "\n",
    "train_datagen = ImageDataGenerator(\n",
    "        rescale=1./255,\n",
    "        shear_range=0.2,\n",
    "        zoom_range=0.2,\n",
    "        rotation_range=40,\n",
    "        horizontal_flip=True)\n",
    "\n",
    "test_datagen = ImageDataGenerator(rescale = 1./255)\n",
    "\n",
    "training_set = train_datagen.flow_from_directory('data/train',\n",
    "                                                 target_size = (100, 100),\n",
    "                                                 batch_size = 32,\n",
    "                                                 class_mode = 'categorical')\n",
    "\n",
    "\n",
    "test_set = test_datagen.flow_from_directory('data/test',\n",
    "                                            target_size = (100, 100),\n",
    "                                            batch_size = 32,\n",
    "                                            class_mode = 'categorical')"
   ]
  },
  {
   "cell_type": "code",
   "execution_count": null,
   "metadata": {},
   "outputs": [
    {
     "name": "stdout",
     "output_type": "stream",
     "text": [
      "Epoch 1/10\n",
      "1000/1000 [==============================] - 3303s 3s/step - loss: 0.7422 - acc: 0.7076 - val_loss: 0.3200 - val_acc: 0.8702\n",
      "Epoch 2/10\n",
      "1000/1000 [==============================] - 3076s 3s/step - loss: 0.2214 - acc: 0.9245 - val_loss: 0.3474 - val_acc: 0.8851\n",
      "Epoch 3/10\n",
      "1000/1000 [==============================] - 3396s 3s/step - loss: 0.1333 - acc: 0.9570 - val_loss: 0.2152 - val_acc: 0.9264\n",
      "Epoch 4/10\n",
      "1000/1000 [==============================] - 3427s 3s/step - loss: 0.0923 - acc: 0.9700 - val_loss: 0.1757 - val_acc: 0.9606\n",
      "Epoch 5/10\n",
      "1000/1000 [==============================] - 3215s 3s/step - loss: 0.0707 - acc: 0.9783 - val_loss: 0.2025 - val_acc: 0.9593\n",
      "Epoch 6/10\n",
      "1000/1000 [==============================] - 3072s 3s/step - loss: 0.0610 - acc: 0.9807 - val_loss: 0.1741 - val_acc: 0.9522\n",
      "Epoch 7/10\n",
      "1000/1000 [==============================] - 3833s 4s/step - loss: 0.0579 - acc: 0.9834 - val_loss: 0.2120 - val_acc: 0.9587\n",
      "Epoch 8/10\n",
      "1000/1000 [==============================] - 3714s 4s/step - loss: 0.0564 - acc: 0.9835 - val_loss: 0.1952 - val_acc: 0.9522\n",
      "Epoch 9/10\n",
      "1000/1000 [==============================] - 3123s 3s/step - loss: 0.0538 - acc: 0.9846 - val_loss: 0.1551 - val_acc: 0.9567\n",
      "Epoch 10/10\n",
      " 999/1000 [============================>.] - ETA: 2s - loss: 0.0496 - acc: 0.9863"
     ]
    }
   ],
   "source": [
    "classifier.fit_generator(training_set,\n",
    "                         steps_per_epoch = 1000,\n",
    "                         epochs = 10,\n",
    "                         validation_data = test_set,\n",
    "                         validation_steps = 50)"
   ]
  },
  {
   "cell_type": "code",
   "execution_count": null,
   "metadata": {},
   "outputs": [],
   "source": [
    "classifier.save('./model2.h5')\n",
    "classifier.save_weights('./weights2.h5')"
   ]
  },
  {
   "cell_type": "code",
   "execution_count": null,
   "metadata": {},
   "outputs": [],
   "source": []
  }
 ],
 "metadata": {
  "kernelspec": {
   "display_name": "Python 3",
   "language": "python",
   "name": "python3"
  },
  "language_info": {
   "codemirror_mode": {
    "name": "ipython",
    "version": 3
   },
   "file_extension": ".py",
   "mimetype": "text/x-python",
   "name": "python",
   "nbconvert_exporter": "python",
   "pygments_lexer": "ipython3",
   "version": "3.6.4"
  }
 },
 "nbformat": 4,
 "nbformat_minor": 2
}
