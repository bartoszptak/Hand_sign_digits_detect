{
 "cells": [
  {
   "cell_type": "code",
   "execution_count": 1,
   "metadata": {
    "scrolled": true
   },
   "outputs": [
    {
     "name": "stderr",
     "output_type": "stream",
     "text": [
      "C:\\Users\\Bartolomeo\\Anaconda3\\lib\\site-packages\\h5py\\__init__.py:36: FutureWarning: Conversion of the second argument of issubdtype from `float` to `np.floating` is deprecated. In future, it will be treated as `np.float64 == np.dtype(float).type`.\n",
      "  from ._conv import register_converters as _register_converters\n",
      "Using TensorFlow backend.\n"
     ]
    }
   ],
   "source": [
    "from keras.models import Sequential\n",
    "from keras.layers import Conv2D\n",
    "from keras.layers import MaxPooling2D\n",
    "from keras.layers import Flatten\n",
    "from keras.layers import Dense"
   ]
  },
  {
   "cell_type": "code",
   "execution_count": 2,
   "metadata": {},
   "outputs": [],
   "source": [
    "classifier = Sequential()"
   ]
  },
  {
   "cell_type": "code",
   "execution_count": 3,
   "metadata": {},
   "outputs": [],
   "source": [
    "classifier.add(Conv2D(32, (3, 3), input_shape = (100, 100, 3), activation = 'relu'))\n",
    "\n",
    "classifier.add(MaxPooling2D(pool_size = (2, 2)))\n",
    "\n",
    "classifier.add(Conv2D(32, (3, 3), activation = 'relu'))\n",
    "classifier.add(MaxPooling2D(pool_size = (2, 2)))\n",
    "\n",
    "classifier.add(Flatten())\n",
    "\n",
    "classifier.add(Dense(units = 128, activation = 'relu'))\n",
    "classifier.add(Dense(units = 6, activation = 'sigmoid'))"
   ]
  },
  {
   "cell_type": "code",
   "execution_count": 4,
   "metadata": {},
   "outputs": [],
   "source": [
    "classifier.compile(optimizer = 'adam', loss = 'categorical_crossentropy', metrics = ['accuracy'])"
   ]
  },
  {
   "cell_type": "code",
   "execution_count": 5,
   "metadata": {},
   "outputs": [
    {
     "name": "stdout",
     "output_type": "stream",
     "text": [
      "Found 966 images belonging to 6 classes.\n",
      "Found 271 images belonging to 6 classes.\n"
     ]
    }
   ],
   "source": [
    "from keras.preprocessing.image import ImageDataGenerator\n",
    "from keras.utils import to_categorical\n",
    "\n",
    "train_datagen = ImageDataGenerator(rescale = 1./255,\n",
    "                                   shear_range = 0.2,\n",
    "                                   zoom_range = 0.2,\n",
    "                                   horizontal_flip = True)\n",
    "\n",
    "test_datagen = ImageDataGenerator(rescale = 1./255)\n",
    "\n",
    "training_set = train_datagen.flow_from_directory('data/train',\n",
    "                                                 target_size = (100, 100),\n",
    "                                                 batch_size = 32,\n",
    "                                                 class_mode = 'categorical')\n",
    "\n",
    "\n",
    "test_set = test_datagen.flow_from_directory('data/test',\n",
    "                                            target_size = (100, 100),\n",
    "                                            batch_size = 32,\n",
    "                                            class_mode = 'categorical')"
   ]
  },
  {
   "cell_type": "code",
   "execution_count": 6,
   "metadata": {},
   "outputs": [
    {
     "name": "stdout",
     "output_type": "stream",
     "text": [
      "Epoch 1/10\n",
      "200/200 [==============================] - 113s 567ms/step - loss: 0.9041 - acc: 0.6550 - val_loss: 0.3276 - val_acc: 0.9101\n",
      "Epoch 2/10\n",
      "200/200 [==============================] - 113s 564ms/step - loss: 0.2446 - acc: 0.9215 - val_loss: 0.1220 - val_acc: 0.9686\n",
      "Epoch 3/10\n",
      "200/200 [==============================] - 113s 564ms/step - loss: 0.1304 - acc: 0.9596 - val_loss: 0.1356 - val_acc: 0.9447\n",
      "Epoch 4/10\n",
      "200/200 [==============================] - 111s 555ms/step - loss: 0.0807 - acc: 0.9758 - val_loss: 0.0919 - val_acc: 0.9670\n",
      "Epoch 5/10\n",
      "200/200 [==============================] - 115s 575ms/step - loss: 0.0646 - acc: 0.9801 - val_loss: 0.0991 - val_acc: 0.9785\n",
      "Epoch 6/10\n",
      "200/200 [==============================] - 111s 555ms/step - loss: 0.0338 - acc: 0.9914 - val_loss: 0.1046 - val_acc: 0.9571\n",
      "Epoch 7/10\n",
      "200/200 [==============================] - 112s 562ms/step - loss: 0.0249 - acc: 0.9925 - val_loss: 0.1662 - val_acc: 0.9554\n",
      "Epoch 8/10\n",
      "200/200 [==============================] - 111s 557ms/step - loss: 0.0381 - acc: 0.9904 - val_loss: 0.0922 - val_acc: 0.9777\n",
      "Epoch 9/10\n",
      "200/200 [==============================] - 112s 561ms/step - loss: 0.0275 - acc: 0.9922 - val_loss: 0.2132 - val_acc: 0.9455\n",
      "Epoch 10/10\n",
      "200/200 [==============================] - 114s 572ms/step - loss: 0.0333 - acc: 0.9892 - val_loss: 0.1297 - val_acc: 0.9620\n"
     ]
    },
    {
     "data": {
      "text/plain": [
       "<keras.callbacks.History at 0x24ae1eb7320>"
      ]
     },
     "execution_count": 6,
     "metadata": {},
     "output_type": "execute_result"
    }
   ],
   "source": [
    "classifier.fit_generator(training_set,\n",
    "                         steps_per_epoch = 200,\n",
    "                         epochs = 10,\n",
    "                         validation_data = test_set,\n",
    "                         validation_steps = 40)"
   ]
  },
  {
   "cell_type": "code",
   "execution_count": 11,
   "metadata": {},
   "outputs": [],
   "source": [
    "classifier.save('./model.h5')\n",
    "classifier.save_weights('./weights.h5')"
   ]
  }
 ],
 "metadata": {
  "kernelspec": {
   "display_name": "Python 3",
   "language": "python",
   "name": "python3"
  },
  "language_info": {
   "codemirror_mode": {
    "name": "ipython",
    "version": 3
   },
   "file_extension": ".py",
   "mimetype": "text/x-python",
   "name": "python",
   "nbconvert_exporter": "python",
   "pygments_lexer": "ipython3",
   "version": "3.6.4"
  }
 },
 "nbformat": 4,
 "nbformat_minor": 2
}
